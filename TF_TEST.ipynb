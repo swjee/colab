{
  "nbformat": 4,
  "nbformat_minor": 0,
  "metadata": {
    "colab": {
      "name": "TF_TEST.ipynb",
      "provenance": [],
      "collapsed_sections": [],
      "include_colab_link": true
    },
    "kernelspec": {
      "name": "python3",
      "display_name": "Python 3"
    }
  },
  "cells": [
    {
      "cell_type": "markdown",
      "metadata": {
        "id": "view-in-github",
        "colab_type": "text"
      },
      "source": [
        "<a href=\"https://colab.research.google.com/github/swjee/colab/blob/master/TF_TEST.ipynb\" target=\"_parent\"><img src=\"https://colab.research.google.com/assets/colab-badge.svg\" alt=\"Open In Colab\"/></a>"
      ]
    },
    {
      "cell_type": "code",
      "metadata": {
        "id": "amwKNeBoUlT5",
        "colab_type": "code",
        "colab": {
          "base_uri": "https://localhost:8080/",
          "height": 68
        },
        "outputId": "26e0c19f-e26f-4a39-eeaf-d30ab39cf0f9"
      },
      "source": [
        "# 파이썬 2와 파이썬 3 지원\n",
        "from __future__ import division, print_function, unicode_literals\n",
        "\n",
        "# 공통\n",
        "import numpy as np\n",
        "import os\n",
        "\n",
        "# 일관된 출력을 위해 유사난수 초기화\n",
        "def reset_graph(seed=42):\n",
        "    tf.compat.v1.reset_default_graph()\n",
        "    tf.compat.v1.set_random_seed(seed)\n",
        "    np.random.seed(seed)\n",
        "\n",
        "import tensorflow.compat.v1 as tf\n",
        "tf.disable_v2_behavior()"
      ],
      "execution_count": 1,
      "outputs": [
        {
          "output_type": "stream",
          "text": [
            "WARNING:tensorflow:From /usr/local/lib/python3.6/dist-packages/tensorflow/python/compat/v2_compat.py:96: disable_resource_variables (from tensorflow.python.ops.variable_scope) is deprecated and will be removed in a future version.\n",
            "Instructions for updating:\n",
            "non-resource variables are not supported in the long term\n"
          ],
          "name": "stdout"
        }
      ]
    },
    {
      "cell_type": "code",
      "metadata": {
        "id": "yfE--gp9_Z0-",
        "colab_type": "code",
        "outputId": "18ddd6d1-3134-491a-ee6b-d7326b8b9c6c",
        "colab": {
          "base_uri": "https://localhost:8080/",
          "height": 34
        }
      },
      "source": [
        "print (tf.version)"
      ],
      "execution_count": 2,
      "outputs": [
        {
          "output_type": "stream",
          "text": [
            "<module 'tensorflow.compat.v1.version' from '/usr/local/lib/python3.6/dist-packages/tensorflow/_api/v2/compat/v1/version/__init__.py'>\n"
          ],
          "name": "stdout"
        }
      ]
    },
    {
      "cell_type": "code",
      "metadata": {
        "id": "BFoDKZIlMVaK",
        "colab_type": "code",
        "colab": {}
      },
      "source": [
        "    import time \n",
        "    #filename = '/kaggle/input/titanic/'\n",
        "    def printtm():\n",
        "      print( 'TIME : ',time.strftime('%Y%m%d%H%M%S',time.localtime()))\n",
        "    "
      ],
      "execution_count": 0,
      "outputs": []
    },
    {
      "cell_type": "code",
      "metadata": {
        "id": "FDOF6bb8UrVK",
        "colab_type": "code",
        "colab": {}
      },
      "source": [
        "reset_graph()\n",
        "x=tf.Variable(3,name='x')\n",
        "y=tf.Variable(4,name='x')\n",
        "\n",
        "def ft_1(x,y):\n",
        "\n",
        "  z=x+y+10\n",
        "  return z\n",
        "r = ft_1( x, y)  "
      ],
      "execution_count": 0,
      "outputs": []
    },
    {
      "cell_type": "code",
      "metadata": {
        "id": "-d0wg9kzVexy",
        "colab_type": "code",
        "outputId": "7be8e051-7149-49fc-b8ae-051944a85ff3",
        "colab": {
          "base_uri": "https://localhost:8080/",
          "height": 68
        }
      },
      "source": [
        "init = tf.global_variables_initializer()\n",
        "with tf.Session() as sess:\n",
        "  init.run()\n",
        "  \n",
        "  x_val,y_val=sess.run([x,y])\n",
        "  printtm()\n",
        "  for i in range(1000):\n",
        "    \n",
        "    r_val = sess.run(r,feed_dict={x:x_val,y:y_val})\n",
        "    \n",
        "    x_val = sess.run(x,feed_dict={x:x_val+i})\n",
        "    '''print(type(x))'''\n",
        "  print(x_val,y_val,r_val)\n",
        "  printtm()\n"
      ],
      "execution_count": 5,
      "outputs": [
        {
          "output_type": "stream",
          "text": [
            "TIME :  20200411012323\n",
            "499503 4 498518\n",
            "TIME :  20200411012324\n"
          ],
          "name": "stdout"
        }
      ]
    },
    {
      "cell_type": "code",
      "metadata": {
        "id": "71zZ6BSrH4V4",
        "colab_type": "code",
        "outputId": "164bc41f-9d66-4d9b-fd17-317846ccbe4b",
        "colab": {
          "base_uri": "https://localhost:8080/",
          "height": 255
        }
      },
      "source": [
        "\n",
        "\n",
        "init = tf.global_variables_initializer()\n",
        "with tf.Session() as sess:\n",
        "  init.run()\n",
        "  \n",
        "  x_val,y_val=sess.run([x,y])\n",
        "  printtm()\n",
        "  for i in range(10):\n",
        "    '''\n",
        "    r_val = sess.run(r,feed_dict={x:x_val,y:y_val})\n",
        "    print(x_val,y_val,r_val)\n",
        "    x_val = sess.run(x,feed_dict={x:x_val+i})\n",
        "    '''\n",
        "    \n",
        "    r_val,x_val,y_val  = sess.run([r,x,y])\n",
        "    print(x_val,y_val,r_val)\n",
        "    x = x + i\n",
        "    ''' make deep re reference..  make terrible performance!! not use as below....'''\n",
        "    \n",
        "  print(x_val,y_val,r_val)\n",
        "  printtm()\n",
        "  r_val,x_val,y_val  = sess.run([r,x,y])\n",
        "  print(x_val,y_val,r_val)"
      ],
      "execution_count": 6,
      "outputs": [
        {
          "output_type": "stream",
          "text": [
            "TIME :  20200411012324\n",
            "3 4 17\n",
            "3 4 17\n",
            "4 4 17\n",
            "6 4 17\n",
            "9 4 17\n",
            "13 4 17\n",
            "18 4 17\n",
            "24 4 17\n",
            "31 4 17\n",
            "39 4 17\n",
            "39 4 17\n",
            "TIME :  20200411012324\n",
            "48 4 17\n"
          ],
          "name": "stdout"
        }
      ]
    },
    {
      "cell_type": "code",
      "metadata": {
        "id": "FB_GcqhoIVb7",
        "colab_type": "code",
        "outputId": "72398a50-0e08-4a34-851b-b4c9323e3b79",
        "colab": {
          "base_uri": "https://localhost:8080/",
          "height": 85
        }
      },
      "source": [
        "\n",
        "reset_graph()\n",
        "x=tf.Variable(3,name='x')\n",
        "y=tf.Variable(4,name='x')\n",
        "\n",
        "def ft_1(x,y):\n",
        "\n",
        "  z=x+y+10\n",
        "  return z\n",
        "r = ft_1( x, y)  \n",
        "upop = tf.assign(x,x+1)\n",
        "init = tf.global_variables_initializer()\n",
        "with tf.Session() as sess:\n",
        "  init.run()\n",
        "  \n",
        "  x_val,y_val=sess.run([x,y])\n",
        "  printtm()\n",
        "  for i in range(1000):\n",
        "    '''\n",
        "    r_val = sess.run(r,feed_dict={x:x_val,y:y_val})\n",
        "    print(x_val,y_val,r_val)\n",
        "    x_val = sess.run(x,feed_dict={x:x_val+i})\n",
        "    '''\n",
        "    \n",
        "    r_val,x_val,y_val  = sess.run([r,x,y])\n",
        "    sess.run(upop)\n",
        "   \n",
        "    \n",
        "    \n",
        "  print(x_val,y_val,r_val)\n",
        "  printtm()\n",
        "  r_val,x_val,y_val  = sess.run([r,x,y])\n",
        "  print(x_val,y_val,r_val)"
      ],
      "execution_count": 7,
      "outputs": [
        {
          "output_type": "stream",
          "text": [
            "TIME :  20200411012324\n",
            "1002 4 1016\n",
            "TIME :  20200411012325\n",
            "1003 4 1017\n"
          ],
          "name": "stdout"
        }
      ]
    },
    {
      "cell_type": "code",
      "metadata": {
        "id": "7gqp8rnOGNKE",
        "colab_type": "code",
        "outputId": "1d3d807a-330e-4b8e-fd62-40a192ef74f6",
        "colab": {
          "base_uri": "https://localhost:8080/",
          "height": 187
        }
      },
      "source": [
        "for j in range(10):\n",
        "  print(j)"
      ],
      "execution_count": 8,
      "outputs": [
        {
          "output_type": "stream",
          "text": [
            "0\n",
            "1\n",
            "2\n",
            "3\n",
            "4\n",
            "5\n",
            "6\n",
            "7\n",
            "8\n",
            "9\n"
          ],
          "name": "stdout"
        }
      ]
    }
  ]
}
{
  "nbformat": 4,
  "nbformat_minor": 0,
  "metadata": {
    "colab": {
      "name": "TF_TEST.ipynb",
      "provenance": [],
      "collapsed_sections": [],
      "include_colab_link": true
    },
    "kernelspec": {
      "name": "python3",
      "display_name": "Python 3"
    }
  },
  "cells": [
    {
      "cell_type": "markdown",
      "metadata": {
        "id": "view-in-github",
        "colab_type": "text"
      },
      "source": [
        "<a href=\"https://colab.research.google.com/github/swjee/colab/blob/master/TF_TEST.ipynb\" target=\"_parent\"><img src=\"https://colab.research.google.com/assets/colab-badge.svg\" alt=\"Open In Colab\"/></a>"
      ]
    },
    {
      "cell_type": "code",
      "metadata": {
        "id": "amwKNeBoUlT5",
        "colab_type": "code",
        "colab": {}
      },
      "source": [
        "# 파이썬 2와 파이썬 3 지원\n",
        "from __future__ import division, print_function, unicode_literals\n",
        "\n",
        "# 공통\n",
        "import numpy as np\n",
        "import os\n",
        "\n",
        "# 일관된 출력을 위해 유사난수 초기화\n",
        "def reset_graph(seed=42):\n",
        "    tf.compat.v1.reset_default_graph()\n",
        "    tf.compat.v1.set_random_seed(seed)\n",
        "    np.random.seed(seed)\n",
        "\n",
        "import tensorflow.compat.v1 as tf\n",
        "tf.disable_v2_behavior()"
      ],
      "execution_count": 0,
      "outputs": []
    },
    {
      "cell_type": "code",
      "metadata": {
        "id": "yfE--gp9_Z0-",
        "colab_type": "code",
        "outputId": "c0a0f3ae-569f-4756-a831-117451bf7813",
        "colab": {
          "base_uri": "https://localhost:8080/",
          "height": 34
        }
      },
      "source": [
        "print (tf.version)"
      ],
      "execution_count": 30,
      "outputs": [
        {
          "output_type": "stream",
          "text": [
            "<module 'tensorflow.compat.v1.version' from '/usr/local/lib/python3.6/dist-packages/tensorflow/_api/v2/compat/v1/version/__init__.py'>\n"
          ],
          "name": "stdout"
        }
      ]
    },
    {
      "cell_type": "code",
      "metadata": {
        "id": "BFoDKZIlMVaK",
        "colab_type": "code",
        "colab": {}
      },
      "source": [
        "    import time \n",
        "    #filename = '/kaggle/input/titanic/'\n",
        "    def printtm():\n",
        "      print( 'TIME : ',time.strftime('%Y%m%d%H%M%S',time.localtime()))\n",
        "    "
      ],
      "execution_count": 0,
      "outputs": []
    },
    {
      "cell_type": "code",
      "metadata": {
        "id": "FDOF6bb8UrVK",
        "colab_type": "code",
        "colab": {}
      },
      "source": [
        "reset_graph()\n",
        "x=tf.Variable(3,name='x')\n",
        "y=tf.Variable(4,name='x')\n",
        "\n",
        "def ft_1(x,y):\n",
        "\n",
        "  z=x+y+10\n",
        "  return z\n",
        "r = ft_1( x, y)  "
      ],
      "execution_count": 0,
      "outputs": []
    },
    {
      "cell_type": "code",
      "metadata": {
        "id": "-d0wg9kzVexy",
        "colab_type": "code",
        "outputId": "03f7a22c-6059-4382-dc93-ac41bd9e5fc9",
        "colab": {
          "base_uri": "https://localhost:8080/",
          "height": 68
        }
      },
      "source": [
        "init = tf.global_variables_initializer()\n",
        "with tf.Session() as sess:\n",
        "  init.run()\n",
        "  \n",
        "  x_val,y_val=sess.run([x,y])\n",
        "  printtm()\n",
        "  for i in range(1000):\n",
        "    \n",
        "    r_val = sess.run(r,feed_dict={x:x_val,y:y_val})\n",
        "    \n",
        "    x_val = sess.run(x,feed_dict={x:x_val+i})\n",
        "    '''print(type(x))'''\n",
        "  print(x_val,y_val,r_val)\n",
        "  printtm()\n"
      ],
      "execution_count": 110,
      "outputs": [
        {
          "output_type": "stream",
          "text": [
            "TIME :  20200410222808\n",
            "499503 4 498518\n",
            "TIME :  20200410222809\n"
          ],
          "name": "stdout"
        }
      ]
    },
    {
      "cell_type": "code",
      "metadata": {
        "id": "71zZ6BSrH4V4",
        "colab_type": "code",
        "colab": {
          "base_uri": "https://localhost:8080/",
          "height": 255
        },
        "outputId": "8c3c2b6f-17e8-4524-ea5e-bbffd558d9c7"
      },
      "source": [
        "\n",
        "\n",
        "init = tf.global_variables_initializer()\n",
        "with tf.Session() as sess:\n",
        "  init.run()\n",
        "  \n",
        "  x_val,y_val=sess.run([x,y])\n",
        "  printtm()\n",
        "  for i in range(10):\n",
        "    '''\n",
        "    r_val = sess.run(r,feed_dict={x:x_val,y:y_val})\n",
        "    print(x_val,y_val,r_val)\n",
        "    x_val = sess.run(x,feed_dict={x:x_val+i})\n",
        "    '''\n",
        "    \n",
        "    r_val,x_val,y_val  = sess.run([r,x,y])\n",
        "    print(x_val,y_val,r_val)\n",
        "    x = x + i\n",
        "    ''' make deep re reference..  make terrible performance!! not use as below....'''\n",
        "    \n",
        "  print(x_val,y_val,r_val)\n",
        "  printtm()\n",
        "  r_val,x_val,y_val  = sess.run([r,x,y])\n",
        "  print(x_val,y_val,r_val)"
      ],
      "execution_count": 143,
      "outputs": [
        {
          "output_type": "stream",
          "text": [
            "TIME :  20200410223855\n",
            "228 4 17\n",
            "228 4 17\n",
            "229 4 17\n",
            "231 4 17\n",
            "234 4 17\n",
            "238 4 17\n",
            "243 4 17\n",
            "249 4 17\n",
            "256 4 17\n",
            "264 4 17\n",
            "264 4 17\n",
            "TIME :  20200410223855\n",
            "273 4 17\n"
          ],
          "name": "stdout"
        }
      ]
    },
    {
      "cell_type": "code",
      "metadata": {
        "id": "FB_GcqhoIVb7",
        "colab_type": "code",
        "colab": {
          "base_uri": "https://localhost:8080/",
          "height": 85
        },
        "outputId": "1d8b12bf-5d89-4f4c-e55f-9459cb55bc67"
      },
      "source": [
        "upop = tf.assign(x,x+1)\n",
        "init = tf.global_variables_initializer()\n",
        "with tf.Session() as sess:\n",
        "  init.run()\n",
        "  \n",
        "  x_val,y_val=sess.run([x,y])\n",
        "  printtm()\n",
        "  for i in range(1000):\n",
        "    '''\n",
        "    r_val = sess.run(r,feed_dict={x:x_val,y:y_val})\n",
        "    print(x_val,y_val,r_val)\n",
        "    x_val = sess.run(x,feed_dict={x:x_val+i})\n",
        "    '''\n",
        "    \n",
        "    r_val,x_val,y_val  = sess.run([r,x,y])\n",
        "    sess.run(upop)\n",
        "   \n",
        "    \n",
        "    \n",
        "  print(x_val,y_val,r_val)\n",
        "  printtm()\n",
        "  r_val,x_val,y_val  = sess.run([r,x,y])\n",
        "  print(x_val,y_val,r_val)"
      ],
      "execution_count": 137,
      "outputs": [
        {
          "output_type": "stream",
          "text": [
            "TIME :  20200410223754\n",
            "1002 4 1016\n",
            "TIME :  20200410223755\n",
            "1003 4 1017\n"
          ],
          "name": "stdout"
        }
      ]
    },
    {
      "cell_type": "code",
      "metadata": {
        "id": "7gqp8rnOGNKE",
        "colab_type": "code",
        "colab": {
          "base_uri": "https://localhost:8080/",
          "height": 187
        },
        "outputId": "59d1292b-9717-422f-a9b1-f1a78efd4215"
      },
      "source": [
        "for j in range(10):\n",
        "  print(j)"
      ],
      "execution_count": 33,
      "outputs": [
        {
          "output_type": "stream",
          "text": [
            "0\n",
            "1\n",
            "2\n",
            "3\n",
            "4\n",
            "5\n",
            "6\n",
            "7\n",
            "8\n",
            "9\n"
          ],
          "name": "stdout"
        }
      ]
    }
  ]
}